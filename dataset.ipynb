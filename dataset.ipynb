{
 "cells": [
  {
   "cell_type": "code",
   "execution_count": 1,
   "metadata": {},
   "outputs": [],
   "source": [
    "import pandas as pd"
   ]
  },
  {
   "cell_type": "code",
   "execution_count": 144,
   "metadata": {},
   "outputs": [
    {
     "name": "stdout",
     "output_type": "stream",
     "text": [
      "        sender_name                                            message  \\\n",
      "0            масим                     я вас категорически приветствую   \n",
      "1            масим                                     пойдешь гулять?   \n",
      "2            масим   сегодня пятница оказывается, а вчера я думал, ...   \n",
      "3            масим                                                 NaN   \n",
      "4            масим                                                 NaN   \n",
      "5            масим                                                   (   \n",
      "6  Евгений Потурило                                           о привет   \n",
      "7            масим                                            вооот он   \n",
      "8            масим                                               хехех   \n",
      "9            масим                                        месяц спустя   \n",
      "\n",
      "                        date  \n",
      "0  2021-07-23 15:40:55+00:00  \n",
      "1  2021-07-23 15:41:03+00:00  \n",
      "2  2021-07-23 15:42:03+00:00  \n",
      "3  2021-07-23 17:56:30+00:00  \n",
      "4  2021-07-23 18:00:43+00:00  \n",
      "5  2021-07-23 18:00:51+00:00  \n",
      "6  2021-08-18 18:38:53+00:00  \n",
      "7  2021-08-18 18:45:39+00:00  \n",
      "8  2021-08-18 18:45:45+00:00  \n",
      "9  2021-08-18 18:45:50+00:00  \n"
     ]
    }
   ],
   "source": [
    "df = pd.read_csv('telegram_messages.csv')\n",
    "\n",
    "df_reversed = df[::-1].reset_index(drop=True)\n",
    "\n",
    "print(df_reversed.head(10))\n"
   ]
  },
  {
   "cell_type": "markdown",
   "metadata": {},
   "source": [
    "удаляем ненужный столбец"
   ]
  },
  {
   "cell_type": "code",
   "execution_count": 145,
   "metadata": {},
   "outputs": [],
   "source": [
    "df = df_reversed\n",
    "df = df[df['sender_name'].str.startswith(\"Leo\") == False]\n",
    "df = df[df['sender_name'].str.startswith(\"Плюс\") == False]"
   ]
  },
  {
   "cell_type": "code",
   "execution_count": 146,
   "metadata": {},
   "outputs": [],
   "source": [
    "df = df[df['sender_name'].str.startswith(\"СРОЧНО\") == False]\n",
    "df = df[df['sender_name'].str.startswith(\"ml_mipt_basic_faq_bot\") == False]\n",
    "df = df[df['sender_name'].str.startswith(\"TinkoffMath\") == False]\n",
    "df = df[df['sender_name'].str.startswith(\"sender_name\") == False]\n",
    "df = df[df['message'].str.startswith(\"sender_name\") == False]\n",
    "df = df[df['message'].isnull() == False]"
   ]
  },
  {
   "cell_type": "code",
   "execution_count": 147,
   "metadata": {},
   "outputs": [
    {
     "data": {
      "text/plain": [
       "50813"
      ]
     },
     "execution_count": 147,
     "metadata": {},
     "output_type": "execute_result"
    }
   ],
   "source": [
    "len(df)"
   ]
  },
  {
   "cell_type": "code",
   "execution_count": 97,
   "metadata": {},
   "outputs": [
    {
     "data": {
      "text/html": [
       "<div>\n",
       "<style scoped>\n",
       "    .dataframe tbody tr th:only-of-type {\n",
       "        vertical-align: middle;\n",
       "    }\n",
       "\n",
       "    .dataframe tbody tr th {\n",
       "        vertical-align: top;\n",
       "    }\n",
       "\n",
       "    .dataframe thead th {\n",
       "        text-align: right;\n",
       "    }\n",
       "</style>\n",
       "<table border=\"1\" class=\"dataframe\">\n",
       "  <thead>\n",
       "    <tr style=\"text-align: right;\">\n",
       "      <th></th>\n",
       "      <th>sender_name</th>\n",
       "      <th>message</th>\n",
       "      <th>date</th>\n",
       "    </tr>\n",
       "  </thead>\n",
       "  <tbody>\n",
       "    <tr>\n",
       "      <th>0</th>\n",
       "      <td>масим</td>\n",
       "      <td>я вас категорически приветствую</td>\n",
       "      <td>2021-07-23 15:40:55+00:00</td>\n",
       "    </tr>\n",
       "    <tr>\n",
       "      <th>1</th>\n",
       "      <td>масим</td>\n",
       "      <td>пойдешь гулять?</td>\n",
       "      <td>2021-07-23 15:41:03+00:00</td>\n",
       "    </tr>\n",
       "    <tr>\n",
       "      <th>2</th>\n",
       "      <td>масим</td>\n",
       "      <td>сегодня пятница оказывается, а вчера я думал, ...</td>\n",
       "      <td>2021-07-23 15:42:03+00:00</td>\n",
       "    </tr>\n",
       "    <tr>\n",
       "      <th>5</th>\n",
       "      <td>масим</td>\n",
       "      <td>(</td>\n",
       "      <td>2021-07-23 18:00:51+00:00</td>\n",
       "    </tr>\n",
       "    <tr>\n",
       "      <th>6</th>\n",
       "      <td>Евгений Потурило</td>\n",
       "      <td>о привет</td>\n",
       "      <td>2021-08-18 18:38:53+00:00</td>\n",
       "    </tr>\n",
       "    <tr>\n",
       "      <th>...</th>\n",
       "      <td>...</td>\n",
       "      <td>...</td>\n",
       "      <td>...</td>\n",
       "    </tr>\n",
       "    <tr>\n",
       "      <th>127</th>\n",
       "      <td>Камал</td>\n",
       "      <td>Здравствуйте! Если хотите в пятницу встретимся.</td>\n",
       "      <td>2022-02-01 17:55:32+00:00</td>\n",
       "    </tr>\n",
       "    <tr>\n",
       "      <th>128</th>\n",
       "      <td>Евгений Потурило</td>\n",
       "      <td>Хорошо</td>\n",
       "      <td>2022-02-01 18:09:52+00:00</td>\n",
       "    </tr>\n",
       "    <tr>\n",
       "      <th>129</th>\n",
       "      <td>Евгений Потурило</td>\n",
       "      <td>Здравствуйте, извините что с таким опозданием ...</td>\n",
       "      <td>2022-05-20 13:05:33+00:00</td>\n",
       "    </tr>\n",
       "    <tr>\n",
       "      <th>130</th>\n",
       "      <td>Камал</td>\n",
       "      <td>Спасибо</td>\n",
       "      <td>2022-05-20 13:23:51+00:00</td>\n",
       "    </tr>\n",
       "    <tr>\n",
       "      <th>131</th>\n",
       "      <td>Евгений Потурило</td>\n",
       "      <td>я могу после письмака 24 съездить</td>\n",
       "      <td>2022-06-20 08:29:54+00:00</td>\n",
       "    </tr>\n",
       "  </tbody>\n",
       "</table>\n",
       "<p>100 rows × 3 columns</p>\n",
       "</div>"
      ],
      "text/plain": [
       "          sender_name                                            message  \\\n",
       "0              масим                     я вас категорически приветствую   \n",
       "1              масим                                     пойдешь гулять?   \n",
       "2              масим   сегодня пятница оказывается, а вчера я думал, ...   \n",
       "5              масим                                                   (   \n",
       "6    Евгений Потурило                                           о привет   \n",
       "..                ...                                                ...   \n",
       "127            Камал     Здравствуйте! Если хотите в пятницу встретимся.   \n",
       "128  Евгений Потурило                                             Хорошо   \n",
       "129  Евгений Потурило  Здравствуйте, извините что с таким опозданием ...   \n",
       "130            Камал                                             Спасибо   \n",
       "131  Евгений Потурило                  я могу после письмака 24 съездить   \n",
       "\n",
       "                          date  \n",
       "0    2021-07-23 15:40:55+00:00  \n",
       "1    2021-07-23 15:41:03+00:00  \n",
       "2    2021-07-23 15:42:03+00:00  \n",
       "5    2021-07-23 18:00:51+00:00  \n",
       "6    2021-08-18 18:38:53+00:00  \n",
       "..                         ...  \n",
       "127  2022-02-01 17:55:32+00:00  \n",
       "128  2022-02-01 18:09:52+00:00  \n",
       "129  2022-05-20 13:05:33+00:00  \n",
       "130  2022-05-20 13:23:51+00:00  \n",
       "131  2022-06-20 08:29:54+00:00  \n",
       "\n",
       "[100 rows x 3 columns]"
      ]
     },
     "execution_count": 97,
     "metadata": {},
     "output_type": "execute_result"
    }
   ],
   "source": [
    "df.head(100)"
   ]
  },
  {
   "cell_type": "code",
   "execution_count": 151,
   "metadata": {},
   "outputs": [],
   "source": [
    "df['date'] = pd.to_datetime(df['date'], format='ISO8601')\n",
    "\n",
    "def combine_messages(group):\n",
    "    combined_message = group.iloc[0]['message']\n",
    "    last_date = group.iloc[0]['date']\n",
    "    \n",
    "    for _, row in group.iloc[1:].iterrows():\n",
    "        if abs(row['date'] - last_date) <= pd.Timedelta(hours=1):\n",
    "            combined_message += ' \\n ' + row['message']\n",
    "        else:\n",
    "            break\n",
    "        last_date = row['date']\n",
    "    \n",
    "    return pd.Series({\n",
    "        'message': combined_message,\n",
    "        'date': group.iloc[0]['date']\n",
    "    })\n",
    "\n",
    "result = df.groupby((df['sender_name'] != df['sender_name'].shift()).cumsum()).apply(combine_messages)\n",
    "\n",
    "result['sender_name'] = df.groupby((df['sender_name'] != df['sender_name'].shift()).cumsum())['sender_name'].first()\n",
    "\n",
    "result = result.reset_index(drop=True)"
   ]
  },
  {
   "cell_type": "code",
   "execution_count": 152,
   "metadata": {},
   "outputs": [
    {
     "data": {
      "text/html": [
       "<div>\n",
       "<style scoped>\n",
       "    .dataframe tbody tr th:only-of-type {\n",
       "        vertical-align: middle;\n",
       "    }\n",
       "\n",
       "    .dataframe tbody tr th {\n",
       "        vertical-align: top;\n",
       "    }\n",
       "\n",
       "    .dataframe thead th {\n",
       "        text-align: right;\n",
       "    }\n",
       "</style>\n",
       "<table border=\"1\" class=\"dataframe\">\n",
       "  <thead>\n",
       "    <tr style=\"text-align: right;\">\n",
       "      <th></th>\n",
       "      <th>message</th>\n",
       "      <th>date</th>\n",
       "      <th>sender_name</th>\n",
       "    </tr>\n",
       "  </thead>\n",
       "  <tbody>\n",
       "    <tr>\n",
       "      <th>0</th>\n",
       "      <td>я вас категорически приветствую \\n пойдешь гул...</td>\n",
       "      <td>2021-07-23 15:40:55+00:00</td>\n",
       "      <td>масим</td>\n",
       "    </tr>\n",
       "    <tr>\n",
       "      <th>1</th>\n",
       "      <td>о привет</td>\n",
       "      <td>2021-08-18 18:38:53+00:00</td>\n",
       "      <td>Евгений Потурило</td>\n",
       "    </tr>\n",
       "    <tr>\n",
       "      <th>2</th>\n",
       "      <td>вооот он \\n хехех \\n месяц спустя</td>\n",
       "      <td>2021-08-18 18:45:39+00:00</td>\n",
       "      <td>масим</td>\n",
       "    </tr>\n",
       "    <tr>\n",
       "      <th>3</th>\n",
       "      <td>да блин не разобрался как зайти \\n ты чо \\n ка...</td>\n",
       "      <td>2021-08-18 18:46:05+00:00</td>\n",
       "      <td>Евгений Потурило</td>\n",
       "    </tr>\n",
       "    <tr>\n",
       "      <th>4</th>\n",
       "      <td>ага \\n нормально мне \\n а ты там как? \\n в дер...</td>\n",
       "      <td>2021-08-18 18:46:21+00:00</td>\n",
       "      <td>масим</td>\n",
       "    </tr>\n",
       "  </tbody>\n",
       "</table>\n",
       "</div>"
      ],
      "text/plain": [
       "                                             message  \\\n",
       "0  я вас категорически приветствую \\n пойдешь гул...   \n",
       "1                                           о привет   \n",
       "2                  вооот он \\n хехех \\n месяц спустя   \n",
       "3  да блин не разобрался как зайти \\n ты чо \\n ка...   \n",
       "4  ага \\n нормально мне \\n а ты там как? \\n в дер...   \n",
       "\n",
       "                       date       sender_name  \n",
       "0 2021-07-23 15:40:55+00:00            масим   \n",
       "1 2021-08-18 18:38:53+00:00  Евгений Потурило  \n",
       "2 2021-08-18 18:45:39+00:00            масим   \n",
       "3 2021-08-18 18:46:05+00:00  Евгений Потурило  \n",
       "4 2021-08-18 18:46:21+00:00            масим   "
      ]
     },
     "execution_count": 152,
     "metadata": {},
     "output_type": "execute_result"
    }
   ],
   "source": [
    "result.head()"
   ]
  },
  {
   "cell_type": "code",
   "execution_count": 153,
   "metadata": {},
   "outputs": [],
   "source": [
    "time_diff = result['date'].diff()\n",
    "\n",
    "result['dialogue_index'] = (time_diff > pd.Timedelta(hours=16)).cumsum()"
   ]
  },
  {
   "cell_type": "code",
   "execution_count": 154,
   "metadata": {},
   "outputs": [
    {
     "data": {
      "text/html": [
       "<div>\n",
       "<style scoped>\n",
       "    .dataframe tbody tr th:only-of-type {\n",
       "        vertical-align: middle;\n",
       "    }\n",
       "\n",
       "    .dataframe tbody tr th {\n",
       "        vertical-align: top;\n",
       "    }\n",
       "\n",
       "    .dataframe thead th {\n",
       "        text-align: right;\n",
       "    }\n",
       "</style>\n",
       "<table border=\"1\" class=\"dataframe\">\n",
       "  <thead>\n",
       "    <tr style=\"text-align: right;\">\n",
       "      <th></th>\n",
       "      <th>message</th>\n",
       "      <th>date</th>\n",
       "      <th>sender_name</th>\n",
       "      <th>dialogue_index</th>\n",
       "    </tr>\n",
       "  </thead>\n",
       "  <tbody>\n",
       "    <tr>\n",
       "      <th>0</th>\n",
       "      <td>я вас категорически приветствую \\n пойдешь гул...</td>\n",
       "      <td>2021-07-23 15:40:55+00:00</td>\n",
       "      <td>масим</td>\n",
       "      <td>0</td>\n",
       "    </tr>\n",
       "    <tr>\n",
       "      <th>1</th>\n",
       "      <td>о привет</td>\n",
       "      <td>2021-08-18 18:38:53+00:00</td>\n",
       "      <td>Евгений Потурило</td>\n",
       "      <td>1</td>\n",
       "    </tr>\n",
       "    <tr>\n",
       "      <th>2</th>\n",
       "      <td>вооот он \\n хехех \\n месяц спустя</td>\n",
       "      <td>2021-08-18 18:45:39+00:00</td>\n",
       "      <td>масим</td>\n",
       "      <td>1</td>\n",
       "    </tr>\n",
       "    <tr>\n",
       "      <th>3</th>\n",
       "      <td>да блин не разобрался как зайти \\n ты чо \\n ка...</td>\n",
       "      <td>2021-08-18 18:46:05+00:00</td>\n",
       "      <td>Евгений Потурило</td>\n",
       "      <td>1</td>\n",
       "    </tr>\n",
       "    <tr>\n",
       "      <th>4</th>\n",
       "      <td>ага \\n нормально мне \\n а ты там как? \\n в дер...</td>\n",
       "      <td>2021-08-18 18:46:21+00:00</td>\n",
       "      <td>масим</td>\n",
       "      <td>1</td>\n",
       "    </tr>\n",
       "    <tr>\n",
       "      <th>5</th>\n",
       "      <td>не \\n тут \\n чилю</td>\n",
       "      <td>2021-08-18 18:46:42+00:00</td>\n",
       "      <td>Евгений Потурило</td>\n",
       "      <td>1</td>\n",
       "    </tr>\n",
       "    <tr>\n",
       "      <th>6</th>\n",
       "      <td>атлишна \\n видел твои сторки в инсте</td>\n",
       "      <td>2021-08-18 18:46:59+00:00</td>\n",
       "      <td>масим</td>\n",
       "      <td>1</td>\n",
       "    </tr>\n",
       "    <tr>\n",
       "      <th>7</th>\n",
       "      <td>в пятницу пойдем с кириллом свертокой и женей ...</td>\n",
       "      <td>2021-08-18 18:47:11+00:00</td>\n",
       "      <td>Евгений Потурило</td>\n",
       "      <td>1</td>\n",
       "    </tr>\n",
       "    <tr>\n",
       "      <th>8</th>\n",
       "      <td>в пятницу... это ж через два дня, хз еще, позж...</td>\n",
       "      <td>2021-08-18 18:47:58+00:00</td>\n",
       "      <td>масим</td>\n",
       "      <td>1</td>\n",
       "    </tr>\n",
       "    <tr>\n",
       "      <th>9</th>\n",
       "      <td>ну смари сам \\n да в бар \\n посидеть</td>\n",
       "      <td>2021-08-18 18:48:09+00:00</td>\n",
       "      <td>Евгений Потурило</td>\n",
       "      <td>1</td>\n",
       "    </tr>\n",
       "    <tr>\n",
       "      <th>10</th>\n",
       "      <td>от они \\n хыхы \\n а чего не 2 литра белого мед...</td>\n",
       "      <td>2021-08-18 18:48:15+00:00</td>\n",
       "      <td>масим</td>\n",
       "      <td>1</td>\n",
       "    </tr>\n",
       "    <tr>\n",
       "      <th>11</th>\n",
       "      <td>давай максон</td>\n",
       "      <td>2021-08-18 18:49:17+00:00</td>\n",
       "      <td>Евгений Потурило</td>\n",
       "      <td>1</td>\n",
       "    </tr>\n",
       "    <tr>\n",
       "      <th>12</th>\n",
       "      <td>Задайте вопрос (Тинькофф Старт-&gt;Контест по про...</td>\n",
       "      <td>2021-12-02 22:45:26+00:00</td>\n",
       "      <td>Тинькофф Образование</td>\n",
       "      <td>2</td>\n",
       "    </tr>\n",
       "    <tr>\n",
       "      <th>13</th>\n",
       "      <td>в 3 задании магический квадрат числа в ячейках...</td>\n",
       "      <td>2021-12-02 22:46:28+00:00</td>\n",
       "      <td>Евгений Потурило</td>\n",
       "      <td>2</td>\n",
       "    </tr>\n",
       "    <tr>\n",
       "      <th>14</th>\n",
       "      <td>Ваше сообщение получило номер 3695:\\n```в 3 за...</td>\n",
       "      <td>2021-12-02 22:46:28+00:00</td>\n",
       "      <td>Тинькофф Образование</td>\n",
       "      <td>2</td>\n",
       "    </tr>\n",
       "    <tr>\n",
       "      <th>15</th>\n",
       "      <td>Привет!\\nЯ нашла тебя в чате курса по крипте\\n...</td>\n",
       "      <td>2021-12-17 10:25:21+00:00</td>\n",
       "      <td>Anastasia</td>\n",
       "      <td>3</td>\n",
       "    </tr>\n",
       "    <tr>\n",
       "      <th>16</th>\n",
       "      <td>Привет!\\nЯ нашла тебя в чате курса по крипте д...</td>\n",
       "      <td>2021-11-30 08:54:55+00:00</td>\n",
       "      <td>None</td>\n",
       "      <td>3</td>\n",
       "    </tr>\n",
       "    <tr>\n",
       "      <th>17</th>\n",
       "      <td>Здравствуйте, а можно вместо вашей подписи в п...</td>\n",
       "      <td>2022-02-07 15:48:58+00:00</td>\n",
       "      <td>Евгений Потурило</td>\n",
       "      <td>4</td>\n",
       "    </tr>\n",
       "    <tr>\n",
       "      <th>18</th>\n",
       "      <td>Здравствуйте!\\nЕсли честно, не знаю</td>\n",
       "      <td>2022-02-14 13:09:46+00:00</td>\n",
       "      <td>Yuriy</td>\n",
       "      <td>5</td>\n",
       "    </tr>\n",
       "    <tr>\n",
       "      <th>19</th>\n",
       "      <td>/start</td>\n",
       "      <td>2022-03-28 12:48:34+00:00</td>\n",
       "      <td>Евгений Потурило</td>\n",
       "      <td>6</td>\n",
       "    </tr>\n",
       "  </tbody>\n",
       "</table>\n",
       "</div>"
      ],
      "text/plain": [
       "                                              message  \\\n",
       "0   я вас категорически приветствую \\n пойдешь гул...   \n",
       "1                                            о привет   \n",
       "2                   вооот он \\n хехех \\n месяц спустя   \n",
       "3   да блин не разобрался как зайти \\n ты чо \\n ка...   \n",
       "4   ага \\n нормально мне \\n а ты там как? \\n в дер...   \n",
       "5                                   не \\n тут \\n чилю   \n",
       "6                атлишна \\n видел твои сторки в инсте   \n",
       "7   в пятницу пойдем с кириллом свертокой и женей ...   \n",
       "8   в пятницу... это ж через два дня, хз еще, позж...   \n",
       "9                ну смари сам \\n да в бар \\n посидеть   \n",
       "10  от они \\n хыхы \\n а чего не 2 литра белого мед...   \n",
       "11                                       давай максон   \n",
       "12  Задайте вопрос (Тинькофф Старт->Контест по про...   \n",
       "13  в 3 задании магический квадрат числа в ячейках...   \n",
       "14  Ваше сообщение получило номер 3695:\\n```в 3 за...   \n",
       "15  Привет!\\nЯ нашла тебя в чате курса по крипте\\n...   \n",
       "16  Привет!\\nЯ нашла тебя в чате курса по крипте д...   \n",
       "17  Здравствуйте, а можно вместо вашей подписи в п...   \n",
       "18                Здравствуйте!\\nЕсли честно, не знаю   \n",
       "19                                             /start   \n",
       "\n",
       "                        date            sender_name  dialogue_index  \n",
       "0  2021-07-23 15:40:55+00:00                 масим                0  \n",
       "1  2021-08-18 18:38:53+00:00       Евгений Потурило               1  \n",
       "2  2021-08-18 18:45:39+00:00                 масим                1  \n",
       "3  2021-08-18 18:46:05+00:00       Евгений Потурило               1  \n",
       "4  2021-08-18 18:46:21+00:00                 масим                1  \n",
       "5  2021-08-18 18:46:42+00:00       Евгений Потурило               1  \n",
       "6  2021-08-18 18:46:59+00:00                 масим                1  \n",
       "7  2021-08-18 18:47:11+00:00       Евгений Потурило               1  \n",
       "8  2021-08-18 18:47:58+00:00                 масим                1  \n",
       "9  2021-08-18 18:48:09+00:00       Евгений Потурило               1  \n",
       "10 2021-08-18 18:48:15+00:00                 масим                1  \n",
       "11 2021-08-18 18:49:17+00:00       Евгений Потурило               1  \n",
       "12 2021-12-02 22:45:26+00:00  Тинькофф Образование                2  \n",
       "13 2021-12-02 22:46:28+00:00       Евгений Потурило               2  \n",
       "14 2021-12-02 22:46:28+00:00  Тинькофф Образование                2  \n",
       "15 2021-12-17 10:25:21+00:00             Anastasia                3  \n",
       "16 2021-11-30 08:54:55+00:00                  None                3  \n",
       "17 2022-02-07 15:48:58+00:00       Евгений Потурило               4  \n",
       "18 2022-02-14 13:09:46+00:00                 Yuriy                5  \n",
       "19 2022-03-28 12:48:34+00:00       Евгений Потурило               6  "
      ]
     },
     "execution_count": 154,
     "metadata": {},
     "output_type": "execute_result"
    }
   ],
   "source": [
    "result.head(20)"
   ]
  },
  {
   "cell_type": "markdown",
   "metadata": {},
   "source": [
    "Удаляем диалоги в которых 1 неотвеченное сообщение"
   ]
  },
  {
   "cell_type": "code",
   "execution_count": 155,
   "metadata": {},
   "outputs": [],
   "source": [
    "dialogue_counts = result['dialogue_index'].value_counts()\n",
    "result = result[result['dialogue_index'].isin(dialogue_counts[dialogue_counts > 1].index)]\n",
    "\n",
    "result = result.reset_index(drop=True)\n"
   ]
  },
  {
   "cell_type": "code",
   "execution_count": 156,
   "metadata": {},
   "outputs": [
    {
     "data": {
      "text/html": [
       "<div>\n",
       "<style scoped>\n",
       "    .dataframe tbody tr th:only-of-type {\n",
       "        vertical-align: middle;\n",
       "    }\n",
       "\n",
       "    .dataframe tbody tr th {\n",
       "        vertical-align: top;\n",
       "    }\n",
       "\n",
       "    .dataframe thead th {\n",
       "        text-align: right;\n",
       "    }\n",
       "</style>\n",
       "<table border=\"1\" class=\"dataframe\">\n",
       "  <thead>\n",
       "    <tr style=\"text-align: right;\">\n",
       "      <th></th>\n",
       "      <th>message</th>\n",
       "      <th>date</th>\n",
       "      <th>sender_name</th>\n",
       "      <th>dialogue_index</th>\n",
       "    </tr>\n",
       "  </thead>\n",
       "  <tbody>\n",
       "    <tr>\n",
       "      <th>0</th>\n",
       "      <td>о привет</td>\n",
       "      <td>2021-08-18 18:38:53+00:00</td>\n",
       "      <td>Евгений Потурило</td>\n",
       "      <td>1</td>\n",
       "    </tr>\n",
       "    <tr>\n",
       "      <th>1</th>\n",
       "      <td>вооот он \\n хехех \\n месяц спустя</td>\n",
       "      <td>2021-08-18 18:45:39+00:00</td>\n",
       "      <td>масим</td>\n",
       "      <td>1</td>\n",
       "    </tr>\n",
       "    <tr>\n",
       "      <th>2</th>\n",
       "      <td>да блин не разобрался как зайти \\n ты чо \\n ка...</td>\n",
       "      <td>2021-08-18 18:46:05+00:00</td>\n",
       "      <td>Евгений Потурило</td>\n",
       "      <td>1</td>\n",
       "    </tr>\n",
       "    <tr>\n",
       "      <th>3</th>\n",
       "      <td>ага \\n нормально мне \\n а ты там как? \\n в дер...</td>\n",
       "      <td>2021-08-18 18:46:21+00:00</td>\n",
       "      <td>масим</td>\n",
       "      <td>1</td>\n",
       "    </tr>\n",
       "    <tr>\n",
       "      <th>4</th>\n",
       "      <td>не \\n тут \\n чилю</td>\n",
       "      <td>2021-08-18 18:46:42+00:00</td>\n",
       "      <td>Евгений Потурило</td>\n",
       "      <td>1</td>\n",
       "    </tr>\n",
       "  </tbody>\n",
       "</table>\n",
       "</div>"
      ],
      "text/plain": [
       "                                             message  \\\n",
       "0                                           о привет   \n",
       "1                  вооот он \\n хехех \\n месяц спустя   \n",
       "2  да блин не разобрался как зайти \\n ты чо \\n ка...   \n",
       "3  ага \\n нормально мне \\n а ты там как? \\n в дер...   \n",
       "4                                  не \\n тут \\n чилю   \n",
       "\n",
       "                       date       sender_name  dialogue_index  \n",
       "0 2021-08-18 18:38:53+00:00  Евгений Потурило               1  \n",
       "1 2021-08-18 18:45:39+00:00            масим                1  \n",
       "2 2021-08-18 18:46:05+00:00  Евгений Потурило               1  \n",
       "3 2021-08-18 18:46:21+00:00            масим                1  \n",
       "4 2021-08-18 18:46:42+00:00  Евгений Потурило               1  "
      ]
     },
     "execution_count": 156,
     "metadata": {},
     "output_type": "execute_result"
    }
   ],
   "source": [
    "result.head()"
   ]
  },
  {
   "cell_type": "code",
   "execution_count": 157,
   "metadata": {},
   "outputs": [],
   "source": [
    "def word_count(text):\n",
    "    return len(str(text).split())\n",
    "\n",
    "result['message_word_count'] = result['message'].apply(word_count)\n",
    "\n",
    "# Считаем общее количество слов для каждого dialogue_index\n",
    "word_count_per_dialogue = result.groupby('dialogue_index')['message_word_count'].sum()\n",
    "\n",
    "# Добавляем новую колонку с общим количеством слов для каждого dialogue_index\n",
    "result['total_words_in_dialogue'] = result['dialogue_index'].map(word_count_per_dialogue)\n",
    "\n",
    "# Сбрасываем индекс, если это необходимо\n",
    "result = result.reset_index(drop=True)"
   ]
  },
  {
   "cell_type": "code",
   "execution_count": 190,
   "metadata": {},
   "outputs": [
    {
     "data": {
      "text/plain": [
       "'model : Почему \\n Аххааа\\nperson : из не постсоветского культурного пространства \\n ну \\n бэкграунд культурный слишком разный \\n здесь любоваться панельками это типа ваще необычно \\n и если ты слушаешь цоя ты типа крутой \\n это не распространено \\n типа \\n это считается \\n люди которые хотят показаться не такими как все так делают \\n это пример \\n а дома это классика \\n вот \\n поэтому так себе \\n А мне важно типа что бы прям глубокая такая связь была \\n душевная \\n понимание и всё такое\\nmodel : Я думал поляки похожи на нас \\n В этом плане\\nperson : ну мы сейчас ваще с Настей вместе, но как уже сказал там кризис\\nmodel : А она в Польше стоп\\nperson : Ну в сравнении с вьетнамцами - да\\nmodel : Тому рб\\nperson : А в сравнении с нашими - нет \\n Она в Минске\\nmodel : Блин прикольно \\n Мне сложно пока вериться в это, но мб \\n Я там не был считай\\nperson : Что поляки не похожи?\\nmodel : Ага \\n Ну все мои знакомые вроде норм уехали и уехали \\n Много белорусов туда укатило \\n Вроде никто не возвращается\\nperson : Хз, для тебя может и да. Мы же про меня говорим. Про мои там хотелки и предпочтения. И для меня нет\\nmodel : Да это понятно\\nperson : Нерепрезентативная выборка \\n укатывают обычно\\nmodel : Я же сам на опыт других смотрю а не на свой\\nperson : короче сложно объяснить \\n типа \\n если кто-то захотел уехать \\n он мне вряд ли понравиться \\n по ценностям и всё такое \\n по мировоззрению\\nmodel : Да то что отличаются это понятно, рашка тоже от рб отличается. Но жить можно \\n Ну может \\n Сложно\\nperson : Ну в рашке я чувствую себя ващ своим. Типа это одно культурное пространство на процентов 80 \\n мб 90 \\n Не, для меня 100%) \\n типа я де за себя говорю \\n Короче из ближайших задач - откос от армии, диплом, работа, последипломное обучение и жильё \\n чёт меня напрягает по-взрослому мыслить \\n хз\\nmodel : Блин вот тут плюс\\nperson : типа вынужденно\\nmodel : Но я как-то уже спокойней к этому отношусь \\n А ты не думал куда-то еще укатить\\nperson : в том смысле что я вряд ли смогу дома жить. На хате. Спокойно.\\nmodel : Не в Польше или рб\\nperson : Хотя мб смогу \\n хз\\nmodel : А там Германия \\n Америка \\n Хз что еще\\nperson : Ну в идеале - рб \\n а там хуй знает \\n вдруг какие-то репрессии жоские\\nmodel : Бля план те рассказываю\\nperson : так что если какой-то пиздец то польска, понятно \\n го\\nmodel : Находишь бомжиху беременную женишь на себе везешь в Аргентину там она тебе киндера рожает и у тебя паспорт Аргентины \\n Я ахуел что это так просто \\n А аргентинский паспорт это в любую страну безвиз \\n В рашку блять \\n В Америку \\n Куда угодно \\n У меня знакомый польский паспорт получает и в Америку едет гроши заробатывать \\n Потом планирует в рб миллионером приехать\\nperson : польский паспорт = безвиз америки?\\nmodel : Не \\n С польским сложнее \\n Но както проще\\nperson : понял \\n ну мне такое не интересно просто \\n типа мне чисто покайфовать дома нужно \\n от жизни\\nmodel : Ну тоже правильный подход\\nperson : нахуй мне кудато ебениться, жить в лишениях \\n хватило на учёбе, хз)\\nmodel : Ну это инвестиции\\nperson : Ну мне это не надо просто \\n типа инвестиции для чего? \\n что бы хорошо жить?\\nmodel : Типа ты инвестируешь жопу свою еще на пару лет лишений \\n А потом кайф ловишь плюс минус \\n Очев в Германии Америке деньги заработать гораздо проще\\nperson : Так я и без этого могу кайф ловить, зачем мне посредники какие-то \\n Ну это факт\\nmodel : Ну тогда согласен\\nperson : центры накопления капитала \\n а до этого был не согласен?)\\nmodel : Ну я и с тобой согласен и с челом что едет деньги зарабатывать куда-то \\n С одной стороны молодость проебешь \\n На хуйню\\nperson : Простоты ж меня спрашивал) \\n я написал \"мне не подходит\" \\n я этого чувака не осуждаю\\nmodel : А \\n Понял \\n Ну да\\nperson : если ему кайф - збс \\n а ты чё, в НИИ какой-то?\\nmodel : Не нахуй науку \\n Сбер\\nperson : А зачем тогда магистратура?\\nmodel : Ой больное место \\n Хз честно\\nperson : понял\\nmodel : Ну в общаге тусуются \\n Халаявной\\nperson : так может нахуй вуз и это + время на себя и заработок? \\n а \\n понял \\n ну да, норм \\n а условия пойдёт?\\nmodel : Вот лакшери\\nperson : норм условия\\nmodel : Ну обычная общага\\nperson : блять в гродно у нас ваще пиздец)\\nmodel : Огромная блять хрущевка \\n Мегахрущ \\n Да?\\nperson : ну \\n старые \\n которых большинство \\n тока 2 новые есть \\n там жопа\\nmodel : Ну гргу же около Олд сити \\n Или кто там\\nperson : Да \\n это одна из новых \\n там норм \\n пр иемлемо \\n в старых - блять я бы повесился)\\nmodel : Ахахаххахахаха\\nperson : Так а норм на работе?\\nmodel : У меня кста как в универе новая общага\\nperson : рубишь деньги?ъ\\nmodel : Блок две комнаты \\n Одна женская \\n Другая мужская\\nperson : прикол \\n )\\nmodel : Соседка из Минска\\nperson : классно \\n так а чё по девкам блин \\n расскажи\\nmodel : Да хотелось бы больше\\nperson : какой прогресс \\n поделишься? \\n инфой в смысле\\nmodel : Ну у меня 120к выходит в месяц \\n В целом норм но для мск не так много \\n Ну не жалуюсь ясно \\n В гро я у айтишников спрашиваю, они вообще мало получают \\n Хотя минские норм вроде \\n Это грязными если что\\nperson : типа потом ты платишь налоги? \\n или ты по-серому работаешь? \\n А работаешь много? 40ч в неделю или больше?\\nmodel : Бля ну летом чета с одной сошелся разошелся, потом с белоруской одной в гро познакомился, она ко мне приезжала в мск и в лагерь ездил там еще с девкой сошелся \\n В целом вот все успехи \\n Да, 40 \\n Да, конечно \\n Не, все официально\\nperson : хорош \\n Ну у меня стипуху вторую дали \\n выходит 800 баксов в месяц\\nmodel : Ахахахахаха\\nperson : хотя пока вторую не получал\\nmodel : Блять \\n Это пиздец\\nperson : ?\\nmodel : У меня стипуха 50 долларов блять \\n Ахахах \\n А кстати по ценам че в Польше \\n На 800 норм жить\\nperson : жоска\\nmodel : Хватает?\\nperson : ну вот до этого у меня была стипа 300 \\n мне не хватало ваще \\n тут 150 баксов одна комната в общаге \\n так что \\n да \\n 20 минут на трамвае билетик - доллар \\n вот \\n еда в среднем столько же в магазе\\nmodel : Ну в мск тоже \\n Примерно такой прайс\\nperson : что-то дороже что-то дешевле\\nmodel : 56 рублей метро\\nperson : но в столовке похавать - десятка \\n зелёных\\nmodel : Бля ну дохуя\\nperson : угу) \\n ну и примерно я так прикинул всё кроме продуктов в раза три дороже чем дома \\n так что 800 баксов - ну пойдёт \\n вроде даже на одежду хватать будет\\nmodel : Поздравляю, стипуха бомба\\nperson : типа достаточно что бы не брать бабло  у бати \\n пасиба)\\nmodel : Это за хорошую учебу?\\nperson : ну вот когда домой буду приезжать это ваще шик будет) \\n первая это программа по которой учусь \\n вторая - социальная\\nmodel : Понял \\n Блин паспорт сделаю, к тебе в гости приеду\\nperson : так если будет два \\n разве ты не \\n не будешь призывным? \\n в рб и рф \\n ? \\n или как это?\\nmodel : Да, есть приколы тут \\n Я буду и там и там \\n Только в России у меня отсрочка будет \\n И по рус паспорту я буду выездной \\n А по рб нет\\nperson : а, понял \\n ну да \\n лоджикал \\n просто не брать ссобой бел паспорт) \\n а ты делал новый?\\nmodel : Да блин пока лень этим заниматься \\n Ну в процессе\\nperson : понял\\nmodel : Там документы собираю \\n Я вот на серьезе кстати стал думать\\nperson : так ты копишь на что-то деньги или в итоге почти вся зп и уходит? \\n ага?\\nmodel : Что если вдруг от меня залетит кто-то я в Аргентину повезу \\n Чтобы паспорта получать \\n Это же пмздец какойто \\n Просто паспорт по праву рождения плюс родители'"
      ]
     },
     "execution_count": 190,
     "metadata": {},
     "output_type": "execute_result"
    }
   ],
   "source": [
    "x = result.iloc[3301][\"context\"]\n",
    "x = x.replace(\"user\", \"person\")\n",
    "x"
   ]
  },
  {
   "cell_type": "markdown",
   "metadata": {},
   "source": [
    "Супер длинных диалогов нет, поэтому можно использовать все диалоги в качестве контекста не урезая"
   ]
  },
  {
   "cell_type": "code",
   "execution_count": 180,
   "metadata": {},
   "outputs": [
    {
     "name": "stderr",
     "output_type": "stream",
     "text": [
      "/var/folders/dt/y7wk4rzx3dsg1r6_m1tgxhwc0000gn/T/ipykernel_24205/4278071811.py:11: DeprecationWarning: DataFrameGroupBy.apply operated on the grouping columns. This behavior is deprecated, and in a future version of pandas the grouping columns will be excluded from the operation. Either pass `include_groups=False` to exclude the groupings or explicitly select the grouping columns after groupby to silence this warning.\n",
      "  result = result.groupby('dialogue_index').apply(create_context)\n"
     ]
    }
   ],
   "source": [
    "def create_context(group):\n",
    "    context = []\n",
    "    for idx, row in group.iterrows():\n",
    "        speaker = \"model\" if row['sender_name'] == \"Евгений Потурило\" else \"user\"\n",
    "        context.append(f\"{speaker} : {row['message']}\")\n",
    "    \n",
    "    group['context'] = ['\\n'.join(context[:i - 1]) for i in range(1, len(context) + 1)]\n",
    "    return group\n",
    "\n",
    "# Применяем функцию create_context к каждой группе dialogue_index\n",
    "result = result.groupby('dialogue_index').apply(create_context)\n",
    "\n",
    "# Сбрасываем индекс\n",
    "result = result.reset_index(drop=True)"
   ]
  },
  {
   "cell_type": "code",
   "execution_count": 195,
   "metadata": {},
   "outputs": [],
   "source": [
    "result.to_csv(\"final_telegram.csv\", index=False)"
   ]
  },
  {
   "cell_type": "markdown",
   "metadata": {},
   "source": [
    "Удаляем sender_name != Евгений Потурило\n",
    "Удаляем len(message) > 50"
   ]
  },
  {
   "cell_type": "code",
   "execution_count": 52,
   "metadata": {},
   "outputs": [
    {
     "ename": "ImportError",
     "evalue": "cannot import name 'tokenizer' from 'datasets' (/Users/evgeny/Desktop/study/bot_telegram_request_message/.venv/lib/python3.12/site-packages/datasets/__init__.py)",
     "output_type": "error",
     "traceback": [
      "\u001b[0;31m---------------------------------------------------------------------------\u001b[0m",
      "\u001b[0;31mImportError\u001b[0m                               Traceback (most recent call last)",
      "Cell \u001b[0;32mIn[52], line 2\u001b[0m\n\u001b[1;32m      1\u001b[0m \u001b[38;5;28;01mimport\u001b[39;00m \u001b[38;5;21;01mpandas\u001b[39;00m \u001b[38;5;28;01mas\u001b[39;00m \u001b[38;5;21;01mpd\u001b[39;00m\n\u001b[0;32m----> 2\u001b[0m \u001b[38;5;28;01mfrom\u001b[39;00m \u001b[38;5;21;01mdatasets\u001b[39;00m \u001b[38;5;28;01mimport\u001b[39;00m tokenizer\n\u001b[1;32m      4\u001b[0m result \u001b[38;5;241m=\u001b[39m pd\u001b[38;5;241m.\u001b[39mread_csv(\u001b[38;5;124m'\u001b[39m\u001b[38;5;124mfinal_telegram.csv\u001b[39m\u001b[38;5;124m'\u001b[39m)\n\u001b[1;32m      6\u001b[0m result \u001b[38;5;241m=\u001b[39m result[result[\u001b[38;5;124m\"\u001b[39m\u001b[38;5;124msender_name\u001b[39m\u001b[38;5;124m\"\u001b[39m] \u001b[38;5;241m==\u001b[39m \u001b[38;5;124m\"\u001b[39m\u001b[38;5;124mЕвгений Потурило\u001b[39m\u001b[38;5;124m\"\u001b[39m]\n",
      "\u001b[0;31mImportError\u001b[0m: cannot import name 'tokenizer' from 'datasets' (/Users/evgeny/Desktop/study/bot_telegram_request_message/.venv/lib/python3.12/site-packages/datasets/__init__.py)"
     ]
    }
   ],
   "source": [
    "import pandas as pd\n",
    "\n",
    "result = pd.read_csv('final_telegram.csv')\n",
    "\n",
    "result = result[result[\"sender_name\"] == \"Евгений Потурило\"]\n",
    "result = result[result.message_word_count < 50]\n",
    "result['context'] = result['context'].fillna('')\n"
   ]
  },
  {
   "cell_type": "code",
   "execution_count": 51,
   "metadata": {},
   "outputs": [],
   "source": [
    "from typing import List\n",
    "def generate_prompt(example: pd.DataFrame) -> List[str]:\n",
    "    \"\"\"Generates a standardized message to prompt the model\"\"\"\n",
    "    instr = \"\"\"Below is an instruction that describes a task, paired with an input that provides further context. Write a response that appropriately completes the request.\n",
    "### Instruction:\n",
    "You have dialugue between model and user. You should act like model. Input is previous context. \"\"\"\n",
    "    example[\"new_context\"] = instr + example[\"context\"] + \"### Response:\" + example[\"message\"]\n",
    "    return example[\"new_context\"].tolist()\n",
    "\n",
    "prompt_list = generate_prompt(result)"
   ]
  },
  {
   "cell_type": "code",
   "execution_count": 54,
   "metadata": {},
   "outputs": [],
   "source": [
    "from datasets import Dataset\n",
    "\n",
    "def prepare_dataset(conversations):\n",
    "    dataset = []\n",
    "    for conv in conversations:\n",
    "        parts = conv.split('### Response:')\n",
    "        if len(parts) == 2:\n",
    "            context, response = parts\n",
    "            context = context.split(\"Input is previous context.\")[0] + \"Input is previous context.\" + \" \".join(context.split(\"Input is previous context.\")[1].split(\" \")[-100:])\n",
    "            dataset.append({\n",
    "                \"text\": f'<context>{context.strip()}<response>{response.strip()}'\n",
    "            })\n",
    "\n",
    "    return Dataset.from_list(dataset)\n",
    "\n",
    "telegram_dataset = prepare_dataset(prompt_list)"
   ]
  },
  {
   "cell_type": "code",
   "execution_count": 55,
   "metadata": {},
   "outputs": [
    {
     "data": {
      "text/plain": [
       "{'text': '<context>Below is an instruction that describes a task, paired with an input that provides further context. Write a response that appropriately completes the request.\\n### Instruction:\\nYou have dialugue between model and user. You should act like model. Input is previous context.<response>о привет'}"
      ]
     },
     "execution_count": 55,
     "metadata": {},
     "output_type": "execute_result"
    }
   ],
   "source": [
    "telegram_dataset.save_to_disk('./train_dataset')"
   ]
  },
  {
   "cell_type": "code",
   "execution_count": 57,
   "metadata": {},
   "outputs": [
    {
     "data": {
      "text/plain": [
       "{'text': '<context>Below is an instruction that describes a task, paired with an input that provides further context. Write a response that appropriately completes the request.\\n### Instruction:\\nYou have dialugue between model and user. You should act like model. Input is previous context.<response>о привет'}"
      ]
     },
     "execution_count": 57,
     "metadata": {},
     "output_type": "execute_result"
    }
   ],
   "source": [
    "telegram_dataset[0]"
   ]
  },
  {
   "cell_type": "markdown",
   "metadata": {},
   "source": [
    "ТЕПЕРЬ ДЕЛАЕМ ДАТАСЕТ 200К"
   ]
  },
  {
   "cell_type": "code",
   "execution_count": 364,
   "metadata": {},
   "outputs": [
    {
     "name": "stderr",
     "output_type": "stream",
     "text": [
      "huggingface/tokenizers: The current process just got forked, after parallelism has already been used. Disabling parallelism to avoid deadlocks...\n",
      "To disable this warning, you can either:\n",
      "\t- Avoid using `tokenizers` before the fork if possible\n",
      "\t- Explicitly set the environment variable TOKENIZERS_PARALLELISM=(true | false)\n",
      "275415.80s - pydevd: Sending message related to process being replaced timed-out after 5 seconds\n"
     ]
    },
    {
     "name": "stdout",
     "output_type": "stream",
     "text": [
      "Found existing installation: numpy 1.26.4\n",
      "Uninstalling numpy-1.26.4:\n",
      "  Would remove:\n",
      "    /Users/evgeny/Desktop/study/bot_telegram_request_message/.venv/bin/f2py\n",
      "    /Users/evgeny/Desktop/study/bot_telegram_request_message/.venv/lib/python3.12/site-packages/numpy-1.26.4.dist-info/*\n",
      "    /Users/evgeny/Desktop/study/bot_telegram_request_message/.venv/lib/python3.12/site-packages/numpy/*\n",
      "Proceed (Y/n)? ^C\n",
      "\u001b[31mERROR: Operation cancelled by user\u001b[0m\u001b[31m\n",
      "\u001b[0m"
     ]
    },
    {
     "name": "stderr",
     "output_type": "stream",
     "text": [
      "huggingface/tokenizers: The current process just got forked, after parallelism has already been used. Disabling parallelism to avoid deadlocks...\n",
      "To disable this warning, you can either:\n",
      "\t- Avoid using `tokenizers` before the fork if possible\n",
      "\t- Explicitly set the environment variable TOKENIZERS_PARALLELISM=(true | false)\n",
      "275503.87s - pydevd: Sending message related to process being replaced timed-out after 5 seconds\n"
     ]
    },
    {
     "name": "stdout",
     "output_type": "stream",
     "text": [
      "Requirement already satisfied: numpy in ./.venv/lib/python3.12/site-packages (1.26.4)\n",
      "Requirement already satisfied: scikit-learn in ./.venv/lib/python3.12/site-packages (1.5.1)\n",
      "Requirement already satisfied: scipy>=1.6.0 in ./.venv/lib/python3.12/site-packages (from scikit-learn) (1.14.0)\n",
      "Requirement already satisfied: joblib>=1.2.0 in ./.venv/lib/python3.12/site-packages (from scikit-learn) (1.4.2)\n",
      "Requirement already satisfied: threadpoolctl>=3.1.0 in ./.venv/lib/python3.12/site-packages (from scikit-learn) (3.5.0)\n"
     ]
    }
   ],
   "source": [
    "!pip uninstall numpy scikit-learn\n",
    "!pip install numpy scikit-learn"
   ]
  },
  {
   "cell_type": "code",
   "execution_count": 3,
   "metadata": {},
   "outputs": [
    {
     "name": "stderr",
     "output_type": "stream",
     "text": [
      "/Users/evgeny/Desktop/study/bot_telegram_request_message/.venv/lib/python3.12/site-packages/tqdm/auto.py:21: TqdmWarning: IProgress not found. Please update jupyter and ipywidgets. See https://ipywidgets.readthedocs.io/en/stable/user_install.html\n",
      "  from .autonotebook import tqdm as notebook_tqdm\n"
     ]
    }
   ],
   "source": [
    "import random\n",
    "from datasets import load_dataset, Dataset\n",
    "import numpy as np\n",
    "from sklearn.model_selection import train_test_split"
   ]
  },
  {
   "cell_type": "code",
   "execution_count": 4,
   "metadata": {},
   "outputs": [],
   "source": [
    "dataset = load_dataset('Den4ikAI/russian_dialogues_2', split='train')"
   ]
  },
  {
   "cell_type": "code",
   "execution_count": 28,
   "metadata": {},
   "outputs": [],
   "source": [
    "data = dataset[\"sample\"]"
   ]
  },
  {
   "cell_type": "code",
   "execution_count": 29,
   "metadata": {},
   "outputs": [],
   "source": [
    "def format_dialogue(data):\n",
    "    dialogue = []\n",
    "    for i in range(0, len(data) - 1, 2):\n",
    "        user_str = f\"user : {data[i]}\"\n",
    "        model_str = f\"model : {data[i+1]}\"\n",
    "        dialogue.append(f\"{user_str}\\n{model_str}\")\n",
    "    return dialogue[0]"
   ]
  },
  {
   "cell_type": "code",
   "execution_count": 41,
   "metadata": {},
   "outputs": [
    {
     "name": "stdout",
     "output_type": "stream",
     "text": [
      "200000\n"
     ]
    }
   ],
   "source": [
    "data = data[:200000]\n",
    "print(len(data))\n",
    "formatted_data = list(map(format_dialogue, data))"
   ]
  },
  {
   "cell_type": "code",
   "execution_count": 39,
   "metadata": {},
   "outputs": [
    {
     "name": "stdout",
     "output_type": "stream",
     "text": [
      "6880\n",
      "24.3523\n",
      "user : Пока они не выберут того, кому будут доверять все - им придется ходить по кругу. Ну и армия у них, по ходу, бляди, раз так легко в своих стреляют. \n",
      "model : Они не так легко в своих стреляют, если бы они хотели, они бы на БТРах своих сравняли бы все с землей, но не стали этого делать\n",
      "59\n"
     ]
    }
   ],
   "source": [
    "mean = np.zeros(10000)\n",
    "for i in range(10000):\n",
    "    mean[i] = len(formatted_data[i].split(\" \"))\n",
    "\n",
    "print(mean.argmax())\n",
    "print(mean.mean())\n",
    "print(formatted_data[6880])\n",
    "print(len(formatted_data[6880].split(\" \")))"
   ]
  },
  {
   "cell_type": "code",
   "execution_count": 42,
   "metadata": {},
   "outputs": [],
   "source": [
    "train_data, val_data = train_test_split(formatted_data, test_size=0.1, random_state=42)"
   ]
  },
  {
   "cell_type": "code",
   "execution_count": 43,
   "metadata": {},
   "outputs": [],
   "source": [
    "train_dataset = Dataset.from_dict({\"text\": train_data})\n",
    "val_dataset = Dataset.from_dict({\"text\": val_data})"
   ]
  },
  {
   "cell_type": "code",
   "execution_count": 47,
   "metadata": {},
   "outputs": [
    {
     "data": {
      "text/plain": [
       "{'text': 'user : Что в этом такого? Это смотря каким чувством юмора обладает дающий оценку...\\nmodel : Но ведь она это сказала не дающему оценку, а мужу своему'}"
      ]
     },
     "execution_count": 47,
     "metadata": {},
     "output_type": "execute_result"
    }
   ],
   "source": [
    "train_dataset[0]"
   ]
  },
  {
   "cell_type": "code",
   "execution_count": 44,
   "metadata": {},
   "outputs": [
    {
     "name": "stderr",
     "output_type": "stream",
     "text": [
      "Saving the dataset (1/1 shards): 100%|██████████| 180000/180000 [00:00<00:00, 898647.84 examples/s]\n",
      "Saving the dataset (1/1 shards): 100%|██████████| 20000/20000 [00:00<00:00, 525085.47 examples/s]\n"
     ]
    }
   ],
   "source": [
    "\n",
    "train_dataset.save_to_disk('./train_dataset')\n",
    "val_dataset.save_to_disk('./val_dataset')\n"
   ]
  }
 ],
 "metadata": {
  "kernelspec": {
   "display_name": ".venv",
   "language": "python",
   "name": "python3"
  },
  "language_info": {
   "codemirror_mode": {
    "name": "ipython",
    "version": 3
   },
   "file_extension": ".py",
   "mimetype": "text/x-python",
   "name": "python",
   "nbconvert_exporter": "python",
   "pygments_lexer": "ipython3",
   "version": "3.12.0"
  }
 },
 "nbformat": 4,
 "nbformat_minor": 2
}
